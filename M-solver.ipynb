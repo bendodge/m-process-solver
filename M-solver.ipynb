{
 "cells": [
  {
   "cell_type": "markdown",
   "metadata": {},
   "source": [
    "You must run the first four code blocks in order to set everything up properly."
   ]
  },
  {
   "cell_type": "code",
   "execution_count": 1,
   "metadata": {},
   "outputs": [],
   "source": [
    "import numpy as np\n",
    "import matplotlib.pyplot as plt\n",
    "import scipy.optimize as opt\n",
    "from M_process_solver import MProcessSolver\n",
    "%matplotlib inline"
   ]
  },
  {
   "cell_type": "markdown",
   "metadata": {},
   "source": [
    "The following recursive function gives the particle size distribution at a given time step."
   ]
  },
  {
   "cell_type": "code",
   "execution_count": 2,
   "metadata": {
    "collapsed": true
   },
   "outputs": [],
   "source": [
    "def v(t, M, S):\n",
    "    if t == 0:\n",
    "        return S[:,[0]]\n",
    "    else:\n",
    "        return S[:,[t]] + np.dot(M, v(t-1, M, S))"
   ]
  },
  {
   "cell_type": "markdown",
   "metadata": {},
   "source": [
    "The following function gives back an M-matrix given the diagonals."
   ]
  },
  {
   "cell_type": "code",
   "execution_count": 3,
   "metadata": {
    "collapsed": true
   },
   "outputs": [],
   "source": [
    "def getLMatrix(a):\n",
    "    L = len(a)\n",
    "    M = np.zeros((L, L))\n",
    "    for i in range(L):\n",
    "        M[i, i] = a[i]\n",
    "        if i<L-1:\n",
    "            M[i+1,i] = 1 - a[i]\n",
    "    return M"
   ]
  },
  {
   "cell_type": "markdown",
   "metadata": {},
   "source": [
    "The following function returns the RMSE for a solved matrix when compared to the original matrix."
   ]
  },
  {
   "cell_type": "code",
   "execution_count": 4,
   "metadata": {
    "collapsed": true
   },
   "outputs": [],
   "source": [
    "def RMSE(M, M_solved):\n",
    "    sum = 0\n",
    "    for i in range(M.shape[0]):\n",
    "        sum += (M[i,i]-M_solved[i,i])**2\n",
    "    sum /= M.shape[0]\n",
    "    return np.sqrt(sum)"
   ]
  },
  {
   "cell_type": "markdown",
   "metadata": {},
   "source": [
    "Now let's generate a random probability transition matrix for two size classes, along with some semi-random sourcing data for 20 time steps."
   ]
  },
  {
   "cell_type": "code",
   "execution_count": 5,
   "metadata": {},
   "outputs": [
    {
     "name": "stdout",
     "output_type": "stream",
     "text": [
      "M = \n",
      "[[ 0.64764629  0.        ]\n",
      " [ 0.35235371  1.        ]]\n",
      "S = \n",
      "[[ 14.39370486  19.24672483  63.3661982   18.92875142  45.18882839\n",
      "    8.7235628   41.51336002  50.92636859  37.30073159  97.25202626\n",
      "   62.66467306  90.38530029  48.46570148  96.65639769  10.0350329\n",
      "   75.46125705  80.4493572   25.54148193   2.55678023  82.97891452]\n",
      " [ 11.55621881   8.02620428  28.16153407  84.66564406  34.19315483\n",
      "   97.50191644  46.749267    88.68154201  86.48392277  30.40278098\n",
      "   44.01622035  34.31688088   4.88240304  56.1984034   34.33661763\n",
      "   87.22784452  88.38914564  81.93502244   6.06080586  87.71143821]]\n"
     ]
    }
   ],
   "source": [
    "N = 20\n",
    "\n",
    "a = np.random.rand()\n",
    "M = np.array([[a, 0], [1-a, 1]])\n",
    "print 'M = \\n', M\n",
    "\n",
    "S = 100*np.random.rand(2, N)\n",
    "print 'S = \\n', S"
   ]
  },
  {
   "cell_type": "markdown",
   "metadata": {},
   "source": [
    "And now iterate forward to find the final distribution."
   ]
  },
  {
   "cell_type": "code",
   "execution_count": 6,
   "metadata": {},
   "outputs": [
    {
     "name": "stdout",
     "output_type": "stream",
     "text": [
      "v_f = \n",
      "[[  147.28075113]\n",
      " [ 1866.25136939]]\n"
     ]
    }
   ],
   "source": [
    "v_f = v(N-1, M, S)\n",
    "print 'v_f = \\n', v_f"
   ]
  },
  {
   "cell_type": "markdown",
   "metadata": {},
   "source": [
    "Now let's create an MProcessSolver object and use it along with S and v_f to solve for the original M."
   ]
  },
  {
   "cell_type": "code",
   "execution_count": 7,
   "metadata": {},
   "outputs": [
    {
     "name": "stdout",
     "output_type": "stream",
     "text": [
      "M_solved = \n",
      "[[ 0.64764629  0.        ]\n",
      " [ 0.35235371  1.        ]]\n",
      "\n",
      "error = 7.85046229342e-17\n"
     ]
    }
   ],
   "source": [
    "solver = MProcessSolver(S, v_f)\n",
    "M_solved = getLMatrix(solver.getGenSol())\n",
    "print 'M_solved = \\n', M_solved\n",
    "\n",
    "print '\\nerror =', RMSE(M, M_solved)"
   ]
  },
  {
   "cell_type": "markdown",
   "metadata": {
    "collapsed": true
   },
   "source": [
    "As you can see, the accuracy is quite high!"
   ]
  },
  {
   "cell_type": "markdown",
   "metadata": {
    "collapsed": true
   },
   "source": [
    "Now let us use 5 size classes instead of 2 and test the reduction method for solving this more complex problem."
   ]
  },
  {
   "cell_type": "code",
   "execution_count": 8,
   "metadata": {},
   "outputs": [
    {
     "name": "stdout",
     "output_type": "stream",
     "text": [
      "M = \n",
      "[[ 0.43316026  0.          0.          0.          0.        ]\n",
      " [ 0.56683974  0.18697129  0.          0.          0.        ]\n",
      " [ 0.          0.81302871  0.52519385  0.          0.        ]\n",
      " [ 0.          0.          0.47480615  0.21878217  0.        ]\n",
      " [ 0.          0.          0.          0.78121783  1.        ]]\n",
      "S = \n",
      "[[ 19.34925611  61.0632341   38.0734152   25.86436958  34.25772133\n",
      "    5.04375972  46.13302112  28.7641111   57.9495371   30.77443701\n",
      "    7.43343109  58.88532744  77.88571839  57.94720354  87.05182129\n",
      "   47.41250327  68.4471127   91.12134001  27.95463471  90.00746352]\n",
      " [ 77.89934632   0.22318922  86.29343411  64.12070333  69.34511642\n",
      "    1.53727882  41.73211234  42.03477695  12.76789823  82.9122634\n",
      "   35.14457784  96.63725463   4.09900723  16.0017081   50.05006274\n",
      "   31.62634228  72.51078157  96.03111486  63.69542064  67.94245236]\n",
      " [ 87.41546253  76.17856034  38.77011825  14.77212092  88.28695948\n",
      "   55.27856591  43.16616345  22.49233509  11.36231486  91.18235349\n",
      "   50.88776538  77.41541105  43.09692304  86.85456832  15.19456313\n",
      "   15.29945475  26.33719368  54.17916548  37.97005565  90.85466866]\n",
      " [ 80.82258955  60.63714134  40.11767079  49.95260847  69.05270795\n",
      "   46.65960305  18.87801358  20.40195841  21.78153711  46.47765346\n",
      "    0.67201447   0.67010834  41.32986528  41.5350392   69.54308925\n",
      "   93.49277123  49.51865919   8.99769432  29.16293883  84.71059022]\n",
      " [ 15.72947769   1.34445074  88.61607067  61.41582183   3.23994267\n",
      "   19.94812627  44.64355257  39.9589661   10.0918637    6.81058263\n",
      "   45.71229964  60.65122848  65.0204415    3.64213704  76.59362748\n",
      "   62.60559436  14.18940761  57.81762429  56.97814643  71.04257701]]\n"
     ]
    }
   ],
   "source": [
    "N = 20\n",
    "L = 5\n",
    "\n",
    "a = np.random.rand(L)\n",
    "a[-1] = 1\n",
    "M = getLMatrix(a)\n",
    "print 'M = \\n', M\n",
    "\n",
    "S = 100*np.random.rand(L, N)\n",
    "print 'S = \\n', S"
   ]
  },
  {
   "cell_type": "code",
   "execution_count": 9,
   "metadata": {},
   "outputs": [
    {
     "name": "stdout",
     "output_type": "stream",
     "text": [
      "v_f = \n",
      "[[  128.47060934]\n",
      " [  151.70815346]\n",
      " [  425.62463448]\n",
      " [  304.44539061]\n",
      " [ 3671.23638805]]\n"
     ]
    }
   ],
   "source": [
    "v_f = v(N-1, M, S)\n",
    "print 'v_f = \\n', v_f"
   ]
  },
  {
   "cell_type": "code",
   "execution_count": 10,
   "metadata": {},
   "outputs": [
    {
     "name": "stdout",
     "output_type": "stream",
     "text": [
      "M_solved = \n",
      "[[ 0.43316026  0.          0.          0.          0.        ]\n",
      " [ 0.56683974  0.18697129  0.          0.          0.        ]\n",
      " [ 0.          0.81302871  0.52519385  0.          0.        ]\n",
      " [ 0.          0.          0.47480615  0.21878217  0.        ]\n",
      " [ 0.          0.          0.          0.78121783  1.        ]]\n",
      "\n",
      "error = 3.00222453187e-16\n"
     ]
    }
   ],
   "source": [
    "solver = MProcessSolver(S, v_f)\n",
    "M_solved = getLMatrix(solver.getGenSol())\n",
    "print 'M_solved = \\n', M_solved\n",
    "\n",
    "print '\\nerror =', RMSE(M, M_solved)"
   ]
  },
  {
   "cell_type": "markdown",
   "metadata": {},
   "source": [
    "To investigate the strength of our method on ideal data, let us run some simpe diagnostics. Below is the average error plotted as a function of number of time steps (with L=5), and the average error plotted as a function of number of size classes (with N=50). Obviously this does not cover all of the parameter space, but it is a good rough test. NOTE: Depending on how many trials you do, these tests can take quite a while. The takeaway is that the number of time steps does not really affect the accuracy of the solved matrix, while the number of size classes has a clear positive relationship with error."
   ]
  },
  {
   "cell_type": "code",
   "execution_count": 11,
   "metadata": {},
   "outputs": [
    {
     "name": "stdout",
     "output_type": "stream",
     "text": [
      "Testing N = 25\n",
      "Testing N = 50\n",
      "Testing N = 75\n",
      "Testing N = 100\n",
      "Testing N = 125\n",
      "Testing N = 150\n",
      "Testing N = 175\n",
      "Testing N = 200\n",
      "Testing N = 225\n",
      "Testing N = 250\n",
      "Testing N = 275\n",
      "Testing N = 300\n"
     ]
    },
    {
     "data": {
      "image/png": "[encoded data removed]",
      "text/plain": [
       "<matplotlib.figure.Figure at 0x3ef4e48>"
      ]
     },
     "metadata": {},
     "output_type": "display_data"
    }
   ],
   "source": [
    "N = np.arange(25,301,25)\n",
    "L = 5\n",
    "trials = 100\n",
    "error = []\n",
    "for n in N:\n",
    "    n=int(n)\n",
    "    print 'Testing N =', n\n",
    "    e = 0\n",
    "    for i in range(trials):\n",
    "        a = np.random.rand(L)\n",
    "        a[-1] = 1\n",
    "        M = getLMatrix(a)\n",
    "        S = 100*np.random.rand(L, n)\n",
    "        v_f = v(n-1, M, S)\n",
    "        solver = MProcessSolver(S, v_f)\n",
    "        M_solved = getLMatrix(solver.getGenSol())\n",
    "        e += RMSE(M, M_solved)\n",
    "    error.append(e/trials)\n",
    "fig = plt.figure()\n",
    "ax = fig.add_subplot(111)\n",
    "ax.plot(N,error)\n",
    "ax.set_xlabel('N')\n",
    "plt.show()"
   ]
  },
  {
   "cell_type": "code",
   "execution_count": 5,
   "metadata": {},
   "outputs": [
    {
     "name": "stdout",
     "output_type": "stream",
     "text": [
      "Testing L = 2\n",
      "Testing L = 3\n",
      "Testing L = 4\n",
      "Testing L = 5\n",
      "Testing L = 6\n",
      "Testing L = 7\n",
      "Testing L = 8\n",
      "Testing L = 9\n",
      "Testing L = 10\n",
      "Testing L = 11\n",
      "Testing L = 12\n",
      "Testing L = 13\n",
      "Testing L = 14\n",
      "Testing L = 15\n",
      "Testing L = 16\n",
      "Testing L = 17\n",
      "Testing L = 18\n",
      "Testing L = 19\n",
      "Testing L = 20\n",
      "Testing L = 21\n",
      "Testing L = 22\n",
      "Testing L = 23\n",
      "Testing L = 24\n",
      "Testing L = 25\n",
      "Testing L = 26\n",
      "Testing L = 27\n",
      "Testing L = 28\n",
      "Testing L = 29\n",
      "Testing L = 30\n"
     ]
    },
    {
     "data": {
      "image/png": "[encoded data removed]",
      "text/plain": [
       "<matplotlib.figure.Figure at 0x2a2d438>"
      ]
     },
     "metadata": {},
     "output_type": "display_data"
    }
   ],
   "source": [
    "N = 50\n",
    "L = np.arange(2,31)\n",
    "trials = 100\n",
    "error = []\n",
    "for l in L:\n",
    "    l=int(l)\n",
    "    print 'Testing L =', l\n",
    "    e = 0\n",
    "    for i in range(trials):\n",
    "        a = np.random.rand(l)\n",
    "        a[-1] = 1\n",
    "        M = getLMatrix(a)\n",
    "        S = 100*np.random.rand(l, N)\n",
    "        v_f = v(N-1, M, S)\n",
    "        solver = MProcessSolver(S, v_f)\n",
    "        M_solved = getLMatrix(solver.getGenSol())\n",
    "        e += RMSE(M, M_solved)\n",
    "    error.append(e/trials)\n",
    "fig = plt.figure()\n",
    "ax = fig.add_subplot(111)\n",
    "ax.plot(L,error)\n",
    "ax.set_xlabel('L')\n",
    "plt.show()"
   ]
  },
  {
   "cell_type": "markdown",
   "metadata": {},
   "source": [
    "The more important test is how well the solver can deal with slightly noisy data. Below are the same two tests as above, but with some noise added in to the measured final distribution."
   ]
  },
  {
   "cell_type": "code",
   "execution_count": 7,
   "metadata": {},
   "outputs": [
    {
     "name": "stdout",
     "output_type": "stream",
     "text": [
      "Testing N = 25\n",
      "Testing N = 50\n",
      "Testing N = 75\n",
      "Testing N = 100\n",
      "Testing N = 125\n",
      "Testing N = 150\n"
     ]
    },
    {
     "ename": "KeyboardInterrupt",
     "evalue": "",
     "output_type": "error",
     "traceback": [
      "\u001b[1;31m---------------------------------------------------------------------------\u001b[0m",
      "\u001b[1;31mKeyboardInterrupt\u001b[0m                         Traceback (most recent call last)",
      "\u001b[1;32m<ipython-input-7-5d462f2e261b>\u001b[0m in \u001b[0;36m<module>\u001b[1;34m()\u001b[0m\n\u001b[0;32m     15\u001b[0m         \u001b[0mv_f\u001b[0m \u001b[1;33m=\u001b[0m \u001b[0mv\u001b[0m\u001b[1;33m(\u001b[0m\u001b[0mn\u001b[0m\u001b[1;33m-\u001b[0m\u001b[1;36m1\u001b[0m\u001b[1;33m,\u001b[0m \u001b[0mM\u001b[0m\u001b[1;33m,\u001b[0m \u001b[0mS\u001b[0m\u001b[1;33m)\u001b[0m \u001b[1;33m+\u001b[0m \u001b[0mnoise\u001b[0m\u001b[1;33m*\u001b[0m\u001b[0mnp\u001b[0m\u001b[1;33m.\u001b[0m\u001b[0mrandom\u001b[0m\u001b[1;33m.\u001b[0m\u001b[0mrandn\u001b[0m\u001b[1;33m(\u001b[0m\u001b[0mL\u001b[0m\u001b[1;33m,\u001b[0m\u001b[1;36m1\u001b[0m\u001b[1;33m)\u001b[0m\u001b[1;33m\u001b[0m\u001b[0m\n\u001b[0;32m     16\u001b[0m         \u001b[0msolver\u001b[0m \u001b[1;33m=\u001b[0m \u001b[0mMProcessSolver\u001b[0m\u001b[1;33m(\u001b[0m\u001b[0mS\u001b[0m\u001b[1;33m,\u001b[0m \u001b[0mv_f\u001b[0m\u001b[1;33m)\u001b[0m\u001b[1;33m\u001b[0m\u001b[0m\n\u001b[1;32m---> 17\u001b[1;33m         \u001b[0mM_solved\u001b[0m \u001b[1;33m=\u001b[0m \u001b[0mgetLMatrix\u001b[0m\u001b[1;33m(\u001b[0m\u001b[0msolver\u001b[0m\u001b[1;33m.\u001b[0m\u001b[0mgetGenSol\u001b[0m\u001b[1;33m(\u001b[0m\u001b[1;33m)\u001b[0m\u001b[1;33m)\u001b[0m\u001b[1;33m\u001b[0m\u001b[0m\n\u001b[0m\u001b[0;32m     18\u001b[0m         \u001b[0me\u001b[0m \u001b[1;33m+=\u001b[0m \u001b[0mRMSE\u001b[0m\u001b[1;33m(\u001b[0m\u001b[0mM\u001b[0m\u001b[1;33m,\u001b[0m \u001b[0mM_solved\u001b[0m\u001b[1;33m)\u001b[0m\u001b[1;33m\u001b[0m\u001b[0m\n\u001b[0;32m     19\u001b[0m     \u001b[0merror\u001b[0m\u001b[1;33m.\u001b[0m\u001b[0mappend\u001b[0m\u001b[1;33m(\u001b[0m\u001b[0me\u001b[0m\u001b[1;33m/\u001b[0m\u001b[0mtrials\u001b[0m\u001b[1;33m)\u001b[0m\u001b[1;33m\u001b[0m\u001b[0m\n",
      "\u001b[1;32mC:\\Users\\Ben\\Google Drive\\Other\\Ocean Garbage Project\\Solver\\M_process_solver.pyc\u001b[0m in \u001b[0;36mgetGenSol\u001b[1;34m(self)\u001b[0m\n\u001b[0;32m     34\u001b[0m \u001b[1;33m\u001b[0m\u001b[0m\n\u001b[0;32m     35\u001b[0m         \u001b[1;32mdef\u001b[0m \u001b[0mgetGenSol\u001b[0m\u001b[1;33m(\u001b[0m\u001b[0mself\u001b[0m\u001b[1;33m)\u001b[0m\u001b[1;33m:\u001b[0m\u001b[1;33m\u001b[0m\u001b[0m\n\u001b[1;32m---> 36\u001b[1;33m                 \u001b[0mself\u001b[0m\u001b[1;33m.\u001b[0m\u001b[0mgenSolve\u001b[0m\u001b[1;33m(\u001b[0m\u001b[0mself\u001b[0m\u001b[1;33m.\u001b[0m\u001b[0mS\u001b[0m\u001b[1;33m,\u001b[0m \u001b[0mself\u001b[0m\u001b[1;33m.\u001b[0m\u001b[0mv_f\u001b[0m\u001b[1;33m)\u001b[0m\u001b[1;33m\u001b[0m\u001b[0m\n\u001b[0m\u001b[0;32m     37\u001b[0m                 \u001b[0mself\u001b[0m\u001b[1;33m.\u001b[0m\u001b[0ma\u001b[0m\u001b[1;33m.\u001b[0m\u001b[0mappend\u001b[0m\u001b[1;33m(\u001b[0m\u001b[1;36m1\u001b[0m\u001b[1;33m)\u001b[0m\u001b[1;33m\u001b[0m\u001b[0m\n\u001b[0;32m     38\u001b[0m                 \u001b[1;32mreturn\u001b[0m \u001b[0mself\u001b[0m\u001b[1;33m.\u001b[0m\u001b[0ma\u001b[0m\u001b[1;33m\u001b[0m\u001b[0m\n",
      "\u001b[1;32mC:\\Users\\Ben\\Google Drive\\Other\\Ocean Garbage Project\\Solver\\M_process_solver.pyc\u001b[0m in \u001b[0;36mgenSolve\u001b[1;34m(self, S, v_f)\u001b[0m\n\u001b[0;32m     48\u001b[0m                                 \u001b[0mS_prime\u001b[0m\u001b[1;33m[\u001b[0m\u001b[1;36m0\u001b[0m\u001b[1;33m]\u001b[0m\u001b[1;33m[\u001b[0m\u001b[0mn\u001b[0m\u001b[1;33m]\u001b[0m \u001b[1;33m+=\u001b[0m \u001b[1;33m(\u001b[0m\u001b[1;36m1\u001b[0m\u001b[1;33m-\u001b[0m\u001b[0mself\u001b[0m\u001b[1;33m.\u001b[0m\u001b[0ma\u001b[0m\u001b[1;33m[\u001b[0m\u001b[1;33m-\u001b[0m\u001b[1;36m1\u001b[0m\u001b[1;33m]\u001b[0m\u001b[1;33m)\u001b[0m\u001b[1;33m*\u001b[0m\u001b[0mv_1\u001b[0m\u001b[1;33m\u001b[0m\u001b[0m\n\u001b[0;32m     49\u001b[0m                                 \u001b[0mv_1\u001b[0m \u001b[1;33m=\u001b[0m \u001b[0mself\u001b[0m\u001b[1;33m.\u001b[0m\u001b[0ma\u001b[0m\u001b[1;33m[\u001b[0m\u001b[1;33m-\u001b[0m\u001b[1;36m1\u001b[0m\u001b[1;33m]\u001b[0m\u001b[1;33m*\u001b[0m\u001b[0mv_1\u001b[0m \u001b[1;33m+\u001b[0m \u001b[0mS\u001b[0m\u001b[1;33m[\u001b[0m\u001b[1;36m0\u001b[0m\u001b[1;33m,\u001b[0m\u001b[0mn\u001b[0m\u001b[1;33m]\u001b[0m\u001b[1;33m\u001b[0m\u001b[0m\n\u001b[1;32m---> 50\u001b[1;33m                         \u001b[0mself\u001b[0m\u001b[1;33m.\u001b[0m\u001b[0mgenSolve\u001b[0m\u001b[1;33m(\u001b[0m\u001b[0mS_prime\u001b[0m\u001b[1;33m,\u001b[0m \u001b[0mv_f\u001b[0m\u001b[1;33m[\u001b[0m\u001b[1;36m1\u001b[0m\u001b[1;33m:\u001b[0m\u001b[1;33m,\u001b[0m\u001b[1;33m:\u001b[0m\u001b[1;33m]\u001b[0m\u001b[1;33m)\u001b[0m\u001b[1;33m\u001b[0m\u001b[0m\n\u001b[0m\u001b[0;32m     51\u001b[0m                 \u001b[1;32melse\u001b[0m\u001b[1;33m:\u001b[0m\u001b[1;33m\u001b[0m\u001b[0m\n\u001b[0;32m     52\u001b[0m                         \u001b[0mself\u001b[0m\u001b[1;33m.\u001b[0m\u001b[0ma\u001b[0m\u001b[1;33m.\u001b[0m\u001b[0mappend\u001b[0m\u001b[1;33m(\u001b[0m\u001b[0mself\u001b[0m\u001b[1;33m.\u001b[0m\u001b[0mtwoSolve\u001b[0m\u001b[1;33m(\u001b[0m\u001b[0mS\u001b[0m\u001b[1;33m,\u001b[0m \u001b[0mv_f\u001b[0m\u001b[1;33m)\u001b[0m\u001b[1;33m)\u001b[0m\u001b[1;33m\u001b[0m\u001b[0m\n",
      "\u001b[1;32mC:\\Users\\Ben\\Google Drive\\Other\\Ocean Garbage Project\\Solver\\M_process_solver.pyc\u001b[0m in \u001b[0;36mgenSolve\u001b[1;34m(self, S, v_f)\u001b[0m\n\u001b[0;32m     42\u001b[0m                         \u001b[0mS_small\u001b[0m \u001b[1;33m=\u001b[0m \u001b[0mnp\u001b[0m\u001b[1;33m.\u001b[0m\u001b[0mvstack\u001b[0m\u001b[1;33m(\u001b[0m\u001b[1;33m(\u001b[0m\u001b[0mS\u001b[0m\u001b[1;33m[\u001b[0m\u001b[1;33m[\u001b[0m\u001b[1;36m0\u001b[0m\u001b[1;33m]\u001b[0m\u001b[1;33m,\u001b[0m\u001b[1;33m:\u001b[0m\u001b[1;33m]\u001b[0m\u001b[1;33m,\u001b[0m \u001b[1;33m[\u001b[0m\u001b[0mnp\u001b[0m\u001b[1;33m.\u001b[0m\u001b[0msum\u001b[0m\u001b[1;33m(\u001b[0m\u001b[0mS\u001b[0m\u001b[1;33m[\u001b[0m\u001b[1;36m1\u001b[0m\u001b[1;33m:\u001b[0m\u001b[1;33m,\u001b[0m\u001b[1;33m:\u001b[0m\u001b[1;33m]\u001b[0m\u001b[1;33m,\u001b[0m \u001b[0maxis\u001b[0m\u001b[1;33m=\u001b[0m\u001b[1;36m0\u001b[0m\u001b[1;33m)\u001b[0m\u001b[1;33m]\u001b[0m\u001b[1;33m)\u001b[0m\u001b[1;33m)\u001b[0m\u001b[1;33m\u001b[0m\u001b[0m\n\u001b[0;32m     43\u001b[0m                         \u001b[0mv_f_small\u001b[0m \u001b[1;33m=\u001b[0m \u001b[0mnp\u001b[0m\u001b[1;33m.\u001b[0m\u001b[0mvstack\u001b[0m\u001b[1;33m(\u001b[0m\u001b[1;33m(\u001b[0m\u001b[0mv_f\u001b[0m\u001b[1;33m[\u001b[0m\u001b[1;33m[\u001b[0m\u001b[1;36m0\u001b[0m\u001b[1;33m]\u001b[0m\u001b[1;33m,\u001b[0m\u001b[1;33m:\u001b[0m\u001b[1;33m]\u001b[0m\u001b[1;33m,\u001b[0m \u001b[1;33m[\u001b[0m\u001b[0mnp\u001b[0m\u001b[1;33m.\u001b[0m\u001b[0msum\u001b[0m\u001b[1;33m(\u001b[0m\u001b[0mv_f\u001b[0m\u001b[1;33m[\u001b[0m\u001b[1;36m1\u001b[0m\u001b[1;33m:\u001b[0m\u001b[1;33m,\u001b[0m\u001b[1;33m:\u001b[0m\u001b[1;33m]\u001b[0m\u001b[1;33m,\u001b[0m \u001b[0maxis\u001b[0m\u001b[1;33m=\u001b[0m\u001b[1;36m0\u001b[0m\u001b[1;33m)\u001b[0m\u001b[1;33m]\u001b[0m\u001b[1;33m)\u001b[0m\u001b[1;33m)\u001b[0m\u001b[1;33m\u001b[0m\u001b[0m\n\u001b[1;32m---> 44\u001b[1;33m                         \u001b[0mself\u001b[0m\u001b[1;33m.\u001b[0m\u001b[0ma\u001b[0m\u001b[1;33m.\u001b[0m\u001b[0mappend\u001b[0m\u001b[1;33m(\u001b[0m\u001b[0mself\u001b[0m\u001b[1;33m.\u001b[0m\u001b[0mtwoSolve\u001b[0m\u001b[1;33m(\u001b[0m\u001b[0mS\u001b[0m\u001b[1;33m=\u001b[0m\u001b[0mS_small\u001b[0m\u001b[1;33m,\u001b[0m \u001b[0mv_f\u001b[0m\u001b[1;33m=\u001b[0m\u001b[0mv_f_small\u001b[0m\u001b[1;33m)\u001b[0m\u001b[1;33m)\u001b[0m\u001b[1;33m\u001b[0m\u001b[0m\n\u001b[0m\u001b[0;32m     45\u001b[0m                         \u001b[0mS_prime\u001b[0m \u001b[1;33m=\u001b[0m \u001b[0mS\u001b[0m\u001b[1;33m[\u001b[0m\u001b[1;36m1\u001b[0m\u001b[1;33m:\u001b[0m\u001b[1;33m,\u001b[0m\u001b[1;33m:\u001b[0m\u001b[1;33m]\u001b[0m\u001b[1;33m\u001b[0m\u001b[0m\n\u001b[0;32m     46\u001b[0m                         \u001b[0mv_1\u001b[0m \u001b[1;33m=\u001b[0m \u001b[0mS\u001b[0m\u001b[1;33m[\u001b[0m\u001b[1;36m0\u001b[0m\u001b[1;33m,\u001b[0m\u001b[1;36m0\u001b[0m\u001b[1;33m]\u001b[0m\u001b[1;33m\u001b[0m\u001b[0m\n",
      "\u001b[1;32mC:\\Users\\Ben\\Google Drive\\Other\\Ocean Garbage Project\\Solver\\M_process_solver.pyc\u001b[0m in \u001b[0;36mtwoSolve\u001b[1;34m(self, S, v_f)\u001b[0m\n\u001b[0;32m     23\u001b[0m                 \u001b[0msols\u001b[0m \u001b[1;33m=\u001b[0m \u001b[0mnp\u001b[0m\u001b[1;33m.\u001b[0m\u001b[0mroots\u001b[0m\u001b[1;33m(\u001b[0m\u001b[0mp\u001b[0m\u001b[1;33m)\u001b[0m\u001b[1;33m\u001b[0m\u001b[0m\n\u001b[0;32m     24\u001b[0m                 \u001b[1;32mfor\u001b[0m \u001b[0msol\u001b[0m \u001b[1;32min\u001b[0m \u001b[0msols\u001b[0m\u001b[1;33m:\u001b[0m\u001b[1;33m\u001b[0m\u001b[0m\n\u001b[1;32m---> 25\u001b[1;33m                         \u001b[1;32mif\u001b[0m \u001b[0msol\u001b[0m\u001b[1;33m.\u001b[0m\u001b[0mimag\u001b[0m \u001b[1;33m==\u001b[0m \u001b[1;36m0\u001b[0m \u001b[1;32mand\u001b[0m \u001b[0msol\u001b[0m\u001b[1;33m.\u001b[0m\u001b[0mreal\u001b[0m \u001b[1;33m>=\u001b[0m \u001b[1;36m0\u001b[0m\u001b[1;33m:\u001b[0m\u001b[1;33m\u001b[0m\u001b[0m\n\u001b[0m\u001b[0;32m     26\u001b[0m                                 \u001b[0ma\u001b[0m \u001b[1;33m=\u001b[0m \u001b[0msol\u001b[0m\u001b[1;33m.\u001b[0m\u001b[0mreal\u001b[0m\u001b[1;33m\u001b[0m\u001b[0m\n\u001b[0;32m     27\u001b[0m                 \u001b[1;32mreturn\u001b[0m \u001b[0ma\u001b[0m\u001b[1;33m\u001b[0m\u001b[0m\n",
      "\u001b[1;31mKeyboardInterrupt\u001b[0m: "
     ]
    }
   ],
   "source": [
    "N = np.arange(25,301,25)\n",
    "L = 5\n",
    "noise=0.1\n",
    "trials = 100\n",
    "error = []\n",
    "for n in N:\n",
    "    n=int(n)\n",
    "    print 'Testing N =', n\n",
    "    e = 0\n",
    "    for i in range(trials):\n",
    "        a = np.random.rand(L)\n",
    "        a[-1] = 1\n",
    "        M = getLMatrix(a)\n",
    "        S = 100*np.random.rand(L, n)\n",
    "        v_f = v(n-1, M, S) + noise*np.random.randn(L,1)\n",
    "        solver = MProcessSolver(S, v_f)\n",
    "        M_solved = getLMatrix(solver.getGenSol())\n",
    "        e += RMSE(M, M_solved)\n",
    "    error.append(e/trials)\n",
    "fig = plt.figure()\n",
    "ax = fig.add_subplot(111)\n",
    "ax.plot(N,error)\n",
    "ax.set_xlabel('N')\n",
    "plt.show()"
   ]
  },
  {
   "cell_type": "code",
   "execution_count": 8,
   "metadata": {},
   "outputs": [
    {
     "name": "stdout",
     "output_type": "stream",
     "text": [
      "Testing L = 2\n",
      "Testing L = 3\n",
      "Testing L = 4\n",
      "Testing L = 5\n",
      "Testing L = 6\n",
      "Testing L = 7\n",
      "Testing L = 8\n",
      "Testing L = 9\n",
      "Testing L = 10\n",
      "Testing L = 11\n",
      "Testing L = 12\n",
      "Testing L = 13\n",
      "Testing L = 14\n",
      "Testing L = 15\n",
      "Testing L = 16\n",
      "Testing L = 17\n",
      "Testing L = 18\n",
      "Testing L = 19\n",
      "Testing L = 20\n",
      "Testing L = 21\n",
      "Testing L = 22\n",
      "Testing L = 23\n",
      "Testing L = 24\n",
      "Testing L = 25\n",
      "Testing L = 26\n",
      "Testing L = 27\n",
      "Testing L = 28\n",
      "Testing L = 29\n",
      "Testing L = 30\n"
     ]
    },
    {
     "data": {
      "image/png": "[encoded data removed]",
      "text/plain": [
       "<matplotlib.figure.Figure at 0x9cb9320>"
      ]
     },
     "metadata": {},
     "output_type": "display_data"
    }
   ],
   "source": [
    "N = 50\n",
    "L = np.arange(2,31)\n",
    "noise=0.1\n",
    "trials = 100\n",
    "error = []\n",
    "for l in L:\n",
    "    l=int(l)\n",
    "    print 'Testing L =', l\n",
    "    e = 0\n",
    "    for i in range(trials):\n",
    "        a = np.random.rand(l)\n",
    "        a[-1] = 1\n",
    "        M = getLMatrix(a)\n",
    "        S = 100*np.random.rand(l, N)\n",
    "        v_f = v(N-1, M, S) + noise*np.random.randn(l,1)\n",
    "        solver = MProcessSolver(S, v_f)\n",
    "        M_solved = getLMatrix(solver.getGenSol())\n",
    "        e += RMSE(M, M_solved)\n",
    "    error.append(e/trials)\n",
    "fig = plt.figure()\n",
    "ax = fig.add_subplot(111)\n",
    "ax.plot(L,error)\n",
    "ax.set_xlabel('L')\n",
    "plt.show()"
   ]
  },
  {
   "cell_type": "markdown",
   "metadata": {},
   "source": [
    "Interestingly, the clear pattern visible before disappears, giving way to a much more volatile plot. The errors are still under control, but one might ask why they look so random. One reason is that, by adding noise, we remove the guarantee of a perfect M-process solution, and thus there is a possibility for very extreme outliers. We have no methods for estimating how close we should be able to get without a perfect solution, although it seems that good estimates are possible in most cases: the histogram below shows the presence of extreme outliers against a backdrop of reasonable errors."
   ]
  },
  {
   "cell_type": "code",
   "execution_count": 13,
   "metadata": {},
   "outputs": [
    {
     "name": "stdout",
     "output_type": "stream",
     "text": [
      "Testing L = 2\n",
      "Testing L = 3\n",
      "Testing L = 4\n",
      "Testing L = 5\n",
      "Testing L = 6\n",
      "Testing L = 7\n",
      "Testing L = 8\n",
      "Testing L = 9\n",
      "Testing L = 10\n",
      "Testing L = 11\n",
      "Testing L = 12\n",
      "Testing L = 13\n",
      "Testing L = 14\n",
      "Testing L = 15\n",
      "Testing L = 16\n",
      "Testing L = 17\n",
      "Testing L = 18\n",
      "Testing L = 19\n",
      "Testing L = 20\n",
      "Testing L = 21\n",
      "Testing L = 22\n",
      "Testing L = 23\n",
      "Testing L = 24\n",
      "Testing L = 25\n",
      "Testing L = 26\n",
      "Testing L = 27\n",
      "Testing L = 28\n",
      "Testing L = 29\n",
      "Testing L = 30\n"
     ]
    },
    {
     "data": {
      "image/png": "[encoded data removed]",
      "text/plain": [
       "<matplotlib.figure.Figure at 0x9cdbac8>"
      ]
     },
     "metadata": {},
     "output_type": "display_data"
    }
   ],
   "source": [
    "N = 50\n",
    "L = np.arange(2,31)\n",
    "noise=0.1\n",
    "trials = 100\n",
    "error = []\n",
    "for l in L:\n",
    "    l=int(l)\n",
    "    print 'Testing L =', l\n",
    "    e = 0\n",
    "    for i in range(trials):\n",
    "        a = np.random.rand(l)\n",
    "        a[-1] = 1\n",
    "        M = getLMatrix(a)\n",
    "        S = 100*np.random.rand(l, N)\n",
    "        v_f = v(N-1, M, S) + noise*np.random.randn(l,1)\n",
    "        solver = MProcessSolver(S, v_f)\n",
    "        M_solved = getLMatrix(solver.getGenSol())\n",
    "        error.append(RMSE(M, M_solved))\n",
    "fig = plt.figure()\n",
    "ax = fig.add_subplot(111)\n",
    "ax.boxplot(error)\n",
    "ax.set_xlabel('L')\n",
    "plt.show()"
   ]
  },
  {
   "cell_type": "markdown",
   "metadata": {},
   "source": [
    "More work: Discard the outliers (no real point though, this only works if we have tons of test data which we will not have in analyzing actual data). Figuring out a way to warn of impending, large-error outliers (perhaps hints are buried in the technical analysis). Continue testing out variants of the diagnostics so as the find the most revealing ones."
   ]
  }
 ],
 "metadata": {
  "kernelspec": {
   "display_name": "Python 2",
   "language": "python",
   "name": "python2"
  },
  "language_info": {
   "codemirror_mode": {
    "name": "ipython",
    "version": 2
   },
   "file_extension": ".py",
   "mimetype": "text/x-python",
   "name": "python",
   "nbconvert_exporter": "python",
   "pygments_lexer": "ipython2",
   "version": "2.7.13"
  }
 },
 "nbformat": 4,
 "nbformat_minor": 2
}
